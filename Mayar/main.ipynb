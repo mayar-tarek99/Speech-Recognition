{
 "cells": [
  {
   "cell_type": "markdown",
   "metadata": {},
   "source": [
    "Extract Features , Hash and find Similarity"
   ]
  },
  {
   "cell_type": "code",
   "execution_count": null,
   "metadata": {},
   "outputs": [],
   "source": []
  },
  {
   "cell_type": "code",
   "execution_count": 7,
   "metadata": {},
   "outputs": [
    {
     "name": "stdout",
     "output_type": "stream",
     "text": [
      "extractFeatures\n",
      "enter data\n",
      "extractFeatures\n",
      "enter data\n"
     ]
    },
    {
     "ename": "TypeError",
     "evalue": "'NoneType' object is not subscriptable",
     "output_type": "error",
     "traceback": [
      "\u001b[1;31m---------------------------------------------------------------------------\u001b[0m",
      "\u001b[1;31mTypeError\u001b[0m                                 Traceback (most recent call last)",
      "\u001b[1;32m<ipython-input-7-a06d169a93d4>\u001b[0m in \u001b[0;36m<module>\u001b[1;34m\u001b[0m\n\u001b[0;32m     56\u001b[0m                       self.diffValue[2]+self.diffValue[3])/0.03\n\u001b[0;32m     57\u001b[0m         \u001b[0mprint\u001b[0m\u001b[1;33m(\u001b[0m\u001b[0msimilarity\u001b[0m\u001b[1;33m)\u001b[0m\u001b[1;33m\u001b[0m\u001b[1;33m\u001b[0m\u001b[0m\n\u001b[1;32m---> 58\u001b[1;33m \u001b[0mProcessing\u001b[0m\u001b[1;33m(\u001b[0m\u001b[1;32mNone\u001b[0m\u001b[1;33m,\u001b[0m\u001b[1;32mNone\u001b[0m\u001b[1;33m)\u001b[0m\u001b[1;33m.\u001b[0m\u001b[0mfindsimilarto\u001b[0m\u001b[1;33m(\u001b[0m\u001b[1;33m)\u001b[0m\u001b[1;33m\u001b[0m\u001b[1;33m\u001b[0m\u001b[0m\n\u001b[0m",
      "\u001b[1;32m<ipython-input-7-a06d169a93d4>\u001b[0m in \u001b[0;36mfindsimilarto\u001b[1;34m(self)\u001b[0m\n\u001b[0;32m     49\u001b[0m         \u001b[0mnewFeats\u001b[0m \u001b[1;33m=\u001b[0m \u001b[0mp2\u001b[0m\u001b[1;33m.\u001b[0m\u001b[0mextractFeatures\u001b[0m\u001b[1;33m(\u001b[0m\u001b[1;33m)\u001b[0m\u001b[1;33m\u001b[0m\u001b[1;33m\u001b[0m\u001b[0m\n\u001b[0;32m     50\u001b[0m         \u001b[1;32mfor\u001b[0m \u001b[0mj\u001b[0m \u001b[1;32min\u001b[0m \u001b[0mrange\u001b[0m\u001b[1;33m(\u001b[0m\u001b[1;36m1\u001b[0m\u001b[1;33m,\u001b[0m \u001b[1;36m4\u001b[0m\u001b[1;33m)\u001b[0m\u001b[1;33m:\u001b[0m\u001b[1;33m\u001b[0m\u001b[1;33m\u001b[0m\u001b[0m\n\u001b[1;32m---> 51\u001b[1;33m             self.diffValue[j] = (1-(imagehash.hex_to_hash(str(oldFeats[j])) -\n\u001b[0m\u001b[0;32m     52\u001b[0m                                     imagehash.hex_to_hash(str(newFeats[j]))) / 256.0)\n\u001b[0;32m     53\u001b[0m         \u001b[0mprint\u001b[0m\u001b[1;33m(\u001b[0m\u001b[1;34m'NEW FEAT'\u001b[0m\u001b[1;33m,\u001b[0m \u001b[0moldFeats\u001b[0m\u001b[1;33m)\u001b[0m\u001b[1;33m\u001b[0m\u001b[1;33m\u001b[0m\u001b[0m\n",
      "\u001b[1;31mTypeError\u001b[0m: 'NoneType' object is not subscriptable"
     ]
    }
   ],
   "source": [
    "import numpy as np\n",
    "import librosa\n",
    "import imagehash\n",
    "from PIL import Image\n",
    "import soundFile\n",
    "from scipy.io import wavfile\n",
    "\n",
    "class Processing(soundFile.SoundFile):\n",
    "    def __init__(self, data , samplingFrequency):\n",
    "        super().__init__(data, samplingFrequency)\n",
    "        self.spectrogram = None \n",
    "        self.centroid_feature = None\n",
    "        self.rolloff_feature = None\n",
    "        self.mfcc_feature = None\n",
    "        self.chroma_stft_feature = None\n",
    "        self.features_hashes=[]\n",
    "\n",
    "    def extractFeatures(self):\n",
    "        print (\"extractFeatures\")\n",
    "        try:\n",
    "            self.centroid_feature= librosa.feature.spectral_centroid(self.data, self.samplingFrequency)\n",
    "            self.rolloff_feature= librosa.feature.spectral_rolloff(self.data, self.samplingFrequency)\n",
    "            self.mfcc_feature = librosa.feature.mfcc(self.data, self.samplingFrequency)\n",
    "            self.chroma_stft_feature = librosa.feature.chroma_stft(self.data, self.samplingFrequency) \n",
    "            self.lpc_feature = librosa.feature.lpc(self.data, self.samplingFrequency) \n",
    "            self.Hash()\n",
    "        except:\n",
    "            print(\"enter data\")\n",
    "\n",
    "    def Hash(self):\n",
    "        print (\"Hash\")\n",
    "        try:\n",
    "            features=[self.centroid_feature,self.rolloff_feature, self.mfcc_feature,self.chroma_stft_feature,self.lpc_feature]\n",
    "            for feature in features:\n",
    "                self.features_hashes.append(list(str((imagehash.phash(Image.fromarray(feature))))))\n",
    "            print(self.features_hashes)\n",
    "            return self.features_hashes\n",
    "        except:\n",
    "            print(\"get features first!\")\n",
    "\n",
    "    def findsimilarto(self):\n",
    "        self.results = []\n",
    "        self.diffValue = [0, 0, 0, 0]\n",
    "        samplerate1,audio1 = wavfile.read('108.wav')\n",
    "        samplerate2,audio2 = wavfile.read('108.wav')\n",
    "        p1 = Processing(audio1,samplerate1)\n",
    "        p2 = Processing(audio2,samplerate2)\n",
    "        oldFeats = p1.extractFeatures()\n",
    "        newFeats = p2.extractFeatures()\n",
    "        for j in range(1, 4):\n",
    "            self.diffValue[j] = (1-(imagehash.hex_to_hash(str(oldFeats[j])) -\n",
    "                                    imagehash.hex_to_hash(str(newFeats[j]))) / 256.0)\n",
    "        print('NEW FEAT', oldFeats)\n",
    "        print('SONG FEAT', newFeats)\n",
    "        similarity = (self.diffValue[1] +\n",
    "                      self.diffValue[2]+self.diffValue[3])/0.03\n",
    "        print(similarity)\n",
    "Processing(None,None).findsimilarto()\n"
   ]
  },
  {
   "cell_type": "code",
   "execution_count": null,
   "metadata": {},
   "outputs": [],
   "source": []
  }
 ],
 "metadata": {
  "interpreter": {
   "hash": "8fac594bfae6525c0c41b4041d2d72effa188cc8ead05f81b1fab2bb098927fb"
  },
  "kernelspec": {
   "display_name": "Python 3.8.3 64-bit ('base': conda)",
   "name": "python3"
  },
  "language_info": {
   "codemirror_mode": {
    "name": "ipython",
    "version": 3
   },
   "file_extension": ".py",
   "mimetype": "text/x-python",
   "name": "python",
   "nbconvert_exporter": "python",
   "pygments_lexer": "ipython3",
   "version": "3.8.3"
  },
  "orig_nbformat": 4
 },
 "nbformat": 4,
 "nbformat_minor": 2
}
