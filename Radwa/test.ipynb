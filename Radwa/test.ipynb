{
 "cells": [
  {
   "cell_type": "code",
   "execution_count": 4,
   "metadata": {},
   "outputs": [],
   "source": [
    "import winsound\n",
    "filename = './jackhammer.wav'                   \n",
    "winsound.PlaySound(filename, winsound.SND_FILENAME)"
   ]
  },
  {
   "cell_type": "code",
   "execution_count": 7,
   "metadata": {},
   "outputs": [
    {
     "name": "stdout",
     "output_type": "stream",
     "text": [
      "pygame 2.0.2 (SDL 2.0.16, Python 3.8.3)\n",
      "Hello from the pygame community. https://www.pygame.org/contribute.html\n"
     ]
    }
   ],
   "source": [
    "from pygame import mixer # Load the required library\n",
    "mixer.init()\n",
    "mixer.music.load('./welcome.mp3')\n",
    "mixer.music.play()"
   ]
  },
  {
   "cell_type": "code",
   "execution_count": 9,
   "metadata": {},
   "outputs": [
    {
     "name": "stdout",
     "output_type": "stream",
     "text": [
      "[[-0.00238037 -0.00231934]\n",
      " [-0.01623535 -0.01623535]\n",
      " [-0.02853394 -0.02853394]\n",
      " ...\n",
      " [-0.04025269 -0.04025269]\n",
      " [-0.0274353  -0.02740479]\n",
      " [-0.04122925 -0.04119873]] ------- 44100\n"
     ]
    }
   ],
   "source": [
    "import sounddevice as sd\n",
    "import soundfile as sf\n",
    "filename = './jackhammer.wav'\n",
    "# Extract data and sampling rate from file\n",
    "data, fs = sf.read(filename, dtype='float32')  \n",
    "sd.play(data, fs)\n",
    "status = sd.wait()  # Wait until file is done playing\n",
    "print(data,'-------',fs)"
   ]
  },
  {
   "cell_type": "code",
   "execution_count": 32,
   "metadata": {},
   "outputs": [],
   "source": [
    "################## TO PLAY ANY AUDIO FILE ####################\n",
    "from pydub import AudioSegment\n",
    "from pydub.playback import play\n",
    "filename1 = './welcome.mp3'\n",
    "filename = './output.wav'\n",
    "if filename.endswith('.mp3') or filename.endswith('.MP3'):\n",
    "\t\t\tsound = AudioSegment.from_mp3(filename)\n",
    "if filename.endswith('.wav') or filename.endswith('.WAV'):\n",
    "\t\t\tsound = AudioSegment.from_wav(filename)   \n",
    "play(sound)"
   ]
  },
  {
   "cell_type": "code",
   "execution_count": 28,
   "metadata": {},
   "outputs": [],
   "source": [
    "import sounddevice as sd\n",
    "from scipy.io.wavfile import write\n",
    "fs = 44100  # Sample rate\n",
    "seconds = 3  # Duration of recording\n",
    "myrecording = sd.rec(int(seconds * fs), samplerate=fs, channels=2)\n",
    "sd.wait()  # Wait until recording is finished\n",
    "write('output.wav', fs, myrecording)  # Save as WAV file "
   ]
  },
  {
   "cell_type": "code",
   "execution_count": 71,
   "metadata": {},
   "outputs": [
    {
     "name": "stdout",
     "output_type": "stream",
     "text": [
      "Recording\n",
      "Finished recording\n"
     ]
    }
   ],
   "source": [
    "################# TO RECORD AUDIO FOR 3 SECs INTO output.wav FILE #########################\n",
    "import pyaudio\n",
    "import wave\n",
    "chunk = 1024  # Record in chunks of 1024 samples\n",
    "sample_format = pyaudio.paInt16  # 16 bits per sample\n",
    "channels = 2\n",
    "fs = 44100  # Record at 44100 samples per second\n",
    "seconds = 3\n",
    "filename = \"output.wav\"\n",
    "p = pyaudio.PyAudio()  # Create an interface to PortAudio\n",
    "print('Recording')\n",
    "stream = p.open(format=sample_format,channels=channels,rate=fs,frames_per_buffer=chunk,input=True)\n",
    "frames = []  # Initialize array to store frames\n",
    "# Store data in chunks for 3 seconds\n",
    "for i in range(0, int(fs / chunk * seconds)):\n",
    "    data = stream.read(chunk)\n",
    "    frames.append(data)\n",
    "# Stop and close the stream \n",
    "stream.stop_stream()\n",
    "stream.close()\n",
    "# Terminate the PortAudio interface\n",
    "p.terminate()\n",
    "print('Finished recording')\n",
    "# Save the recorded data as a WAV file\n",
    "wf = wave.open(filename, 'wb')\n",
    "wf.setnchannels(channels)\n",
    "wf.setsampwidth(p.get_sample_size(sample_format))\n",
    "wf.setframerate(fs)\n",
    "wf.writeframes(b''.join(frames))\n",
    "wf.close()"
   ]
  },
  {
   "cell_type": "code",
   "execution_count": 72,
   "metadata": {},
   "outputs": [
    {
     "name": "stdout",
     "output_type": "stream",
     "text": [
      "بسم الله\n"
     ]
    }
   ],
   "source": [
    "##################### CONVERTING MY RECOREDED AUDIO output.wav INTO TEXT #####################\n",
    "import speech_recognition as sr\n",
    "filename = \"./output.wav\"\n",
    "# initialize the recognizer\n",
    "r = sr.Recognizer()\n",
    "# open the file\n",
    "with sr.AudioFile(filename) as source:\n",
    "    # listen for the data (load audio to memory)\n",
    "    audio_data = r.record(source)\n",
    "    # recognize (convert from speech to text)\n",
    "    text = r.recognize_google(audio_data)                   # FOR ENGLISH CONVERSION\n",
    "    text = r.recognize_google(audio_data,language=\"ar-EG\")  # FPR ARABIC CONVERSION\n",
    "    print(text)"
   ]
  },
  {
   "cell_type": "code",
   "execution_count": 74,
   "metadata": {},
   "outputs": [
    {
     "name": "stdout",
     "output_type": "stream",
     "text": [
      "Let's speak!!\n",
      "Recognizing your text.............\n",
      "وعضوي\n"
     ]
    }
   ],
   "source": [
    "########################## RECORDING & CONVERSION ################\n",
    "import speech_recognition as sr\n",
    "import pyaudio\n",
    "init_rec = sr.Recognizer()\n",
    "print(\"Let's speak!!\")\n",
    "with sr.Microphone() as source:\n",
    "    audio_data = init_rec.record(source, duration=5)\n",
    "    print(\"Recognizing your text.............\")\n",
    "    text = init_rec.recognize_google(audio_data,language=\"ar-EG\")\n",
    "    print(text)"
   ]
  },
  {
   "cell_type": "code",
   "execution_count": 75,
   "metadata": {},
   "outputs": [
    {
     "name": "stdout",
     "output_type": "stream",
     "text": [
      "بسم الله الرحمن الرحيم\n",
      "YOUR TURN!!\n",
      "RECOGMIZING YOUR AUDIO .............\n",
      "بسم الله الرحمن الرحيم\n",
      "REFERENCE ===>  بسم الله الرحمن الرحيم\n",
      "INPUT ===>  بسم الله الرحمن الرحيم\n",
      "1.0\n"
     ]
    }
   ],
   "source": [
    "################# GOOD RESULTS ##################\n",
    "import pyquran as q\n",
    "from difflib import SequenceMatcher\n",
    "import speech_recognition as sr\n",
    "import pyaudio\n",
    "from pydub import AudioSegment\n",
    "from pydub.playback import play\n",
    "######## PLAY REFERNCE AUDIO\n",
    "filename = \"./DataBase/بسم الله الرحمن الرحيم .. صوت (128  kbps) (shabakngy.com).wav\"\n",
    "sound = AudioSegment.from_wav(filename)   \n",
    "play(sound)\n",
    "######## CONVERT REFERENCE INTO TEXT\n",
    "r = sr.Recognizer()\n",
    "with sr.AudioFile(filename) as source:\n",
    "    audio_data = r.record(source)\n",
    "    audtext = r.recognize_google(audio_data,language=\"ar-EG\")  # FPR ARABIC CONVERSION\n",
    "    print(audtext)\n",
    "######### RECORDING FUNCTION ##########\n",
    "init_rec = sr.Recognizer()\n",
    "print(\"YOUR TURN!!\")\n",
    "with sr.Microphone() as source:\n",
    "    audio_data = init_rec.record(source, duration=5)\n",
    "    print(\"RECOGMIZING YOUR AUDIO .............\")\n",
    "    mytext = init_rec.recognize_google(audio_data,language=\"ar-EG\")\n",
    "    print(mytext)\n",
    "print('REFERENCE ===> ',audtext)\n",
    "print('INPUT ===> ', mytext)\n",
    "######## COMPAREING RECORDED TO REFERENCE ###############\n",
    "print(SequenceMatcher(None, audtext, mytext).ratio())"
   ]
  },
  {
   "cell_type": "code",
   "execution_count": null,
   "metadata": {},
   "outputs": [],
   "source": [
    "import re\n",
    "print(re.search('بسم', 'بسم الله الرحمن الرحيم '))"
   ]
  }
 ],
 "metadata": {
  "interpreter": {
   "hash": "8fac594bfae6525c0c41b4041d2d72effa188cc8ead05f81b1fab2bb098927fb"
  },
  "kernelspec": {
   "display_name": "Python 3.8.3 64-bit ('base': conda)",
   "name": "python3"
  },
  "language_info": {
   "codemirror_mode": {
    "name": "ipython",
    "version": 3
   },
   "file_extension": ".py",
   "mimetype": "text/x-python",
   "name": "python",
   "nbconvert_exporter": "python",
   "pygments_lexer": "ipython3",
   "version": "3.8.3"
  },
  "orig_nbformat": 4
 },
 "nbformat": 4,
 "nbformat_minor": 2
}
